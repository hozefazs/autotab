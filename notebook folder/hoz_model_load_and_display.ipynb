{
 "cells": [
  {
   "cell_type": "markdown",
   "metadata": {},
   "source": [
    "# Model Load & Display"
   ]
  },
  {
   "cell_type": "markdown",
   "metadata": {},
   "source": [
    "#### Imports"
   ]
  },
  {
   "cell_type": "code",
   "execution_count": 1,
   "metadata": {},
   "outputs": [
    {
     "name": "stderr",
     "output_type": "stream",
     "text": [
      "2021-11-29 20:06:20.965161: W tensorflow/stream_executor/platform/default/dso_loader.cc:64] Could not load dynamic library 'libcudart.so.11.0'; dlerror: libcudart.so.11.0: cannot open shared object file: No such file or directory\n",
      "2021-11-29 20:06:20.965326: I tensorflow/stream_executor/cuda/cudart_stub.cc:29] Ignore above cudart dlerror if you do not have a GPU set up on your machine.\n"
     ]
    }
   ],
   "source": [
    "from autotab import TabCNN\n",
    "import os\n",
    "import numpy as np\n",
    "import pandas as pd"
   ]
  },
  {
   "cell_type": "markdown",
   "metadata": {},
   "source": [
    "### Build The model"
   ]
  },
  {
   "cell_type": "code",
   "execution_count": 2,
   "metadata": {},
   "outputs": [
    {
     "name": "stdout",
     "output_type": "stream",
     "text": [
      "Using Google cloud buckets\n",
      "BUCKET_NAME wagon-data-737-sadriwala\n",
      "DATA_BUCKET_FOLDER data/spec_repr\n",
      "gs://wagon-data-737-sadriwala/data/spec_repr/\n",
      "gs://wagon-data-737-sadriwala/saved/\n",
      "getting ids from gs://wagon-data-737-sadriwala/data/spec_repr/id.csv\n"
     ]
    }
   ],
   "source": [
    "my_tabcnn = TabCNN.TabCNN()"
   ]
  },
  {
   "cell_type": "code",
   "execution_count": 3,
   "metadata": {},
   "outputs": [
    {
     "name": "stderr",
     "output_type": "stream",
     "text": [
      "2021-11-29 20:06:37.184844: W tensorflow/stream_executor/platform/default/dso_loader.cc:64] Could not load dynamic library 'libcuda.so.1'; dlerror: libcuda.so.1: cannot open shared object file: No such file or directory\n",
      "2021-11-29 20:06:37.185001: W tensorflow/stream_executor/cuda/cuda_driver.cc:269] failed call to cuInit: UNKNOWN ERROR (303)\n",
      "2021-11-29 20:06:37.185115: I tensorflow/stream_executor/cuda/cuda_diagnostics.cc:156] kernel driver does not appear to be running on this host (LAPTOP-GP5BU3LN): /proc/driver/nvidia/version does not exist\n",
      "2021-11-29 20:06:37.186618: I tensorflow/core/platform/cpu_feature_guard.cc:151] This TensorFlow binary is optimized with oneAPI Deep Neural Network Library (oneDNN) to use the following CPU instructions in performance-critical operations:  AVX2 FMA\n",
      "To enable them in other operations, rebuild TensorFlow with the appropriate compiler flags.\n"
     ]
    }
   ],
   "source": [
    "model = my_tabcnn.build_model()"
   ]
  },
  {
   "cell_type": "code",
   "execution_count": 4,
   "metadata": {},
   "outputs": [
    {
     "name": "stdout",
     "output_type": "stream",
     "text": [
      "Model: \"sequential\"\n",
      "_________________________________________________________________\n",
      " Layer (type)                Output Shape              Param #   \n",
      "=================================================================\n",
      " conv2d (Conv2D)             (None, 190, 7, 32)        320       \n",
      "                                                                 \n",
      " conv2d_1 (Conv2D)           (None, 188, 5, 64)        18496     \n",
      "                                                                 \n",
      " conv2d_2 (Conv2D)           (None, 186, 3, 64)        36928     \n",
      "                                                                 \n",
      " max_pooling2d (MaxPooling2D  (None, 93, 1, 64)        0         \n",
      " )                                                               \n",
      "                                                                 \n",
      " dropout (Dropout)           (None, 93, 1, 64)         0         \n",
      "                                                                 \n",
      " flatten (Flatten)           (None, 5952)              0         \n",
      "                                                                 \n",
      " dense (Dense)               (None, 128)               761984    \n",
      "                                                                 \n",
      " dropout_1 (Dropout)         (None, 128)               0         \n",
      "                                                                 \n",
      " dense_1 (Dense)             (None, 126)               16254     \n",
      "                                                                 \n",
      " reshape (Reshape)           (None, 6, 21)             0         \n",
      "                                                                 \n",
      " activation (Activation)     (None, 6, 21)             0         \n",
      "                                                                 \n",
      "=================================================================\n",
      "Total params: 833,982\n",
      "Trainable params: 833,982\n",
      "Non-trainable params: 0\n",
      "_________________________________________________________________\n"
     ]
    }
   ],
   "source": [
    "model.summary()"
   ]
  },
  {
   "cell_type": "markdown",
   "metadata": {},
   "source": [
    "### Load the weights"
   ]
  },
  {
   "cell_type": "code",
   "execution_count": 5,
   "id": "8949e7cd",
   "metadata": {},
   "outputs": [
    {
     "name": "stdout",
     "output_type": "stream",
     "text": [
      "00_Jazz1-200-B_solo_0.6.csv  full_val0_75acc_weights.h5  happy_birthday.csv\n",
      "00_Jazz1-200-B_solo.csv      happy_birthday_0.6.csv\n"
     ]
    }
   ],
   "source": [
    "os.chdir('../h5-model')\n",
    "!ls"
   ]
  },
  {
   "cell_type": "code",
   "execution_count": 6,
   "id": "1a0b640c",
   "metadata": {},
   "outputs": [],
   "source": [
    "model.load_weights('full_val0_75acc_weights.h5')"
   ]
  },
  {
   "cell_type": "markdown",
   "metadata": {},
   "source": [
    "### Load the npz File"
   ]
  },
  {
   "cell_type": "markdown",
   "metadata": {},
   "source": [
    "find the smallest file in 0 folder"
   ]
  },
  {
   "cell_type": "code",
   "execution_count": 7,
   "metadata": {},
   "outputs": [
    {
     "name": "stdout",
     "output_type": "stream",
     "text": [
      "['repr', 'labels']\n"
     ]
    }
   ],
   "source": [
    "import numpy as np\n",
    "data = np.load(  # load the pre -predicted file\n",
    "    '/mnt/d/data-science/le-wagon/autotab/data/spec_repr/c/00_Jazz1-200-B_solo.npz',\n",
    "    allow_pickle=True)\n",
    "file_list = data.files  # files in data\n",
    "print(file_list)"
   ]
  },
  {
   "cell_type": "markdown",
   "metadata": {},
   "source": [
    "### Extract the repr"
   ]
  },
  {
   "cell_type": "code",
   "execution_count": 8,
   "metadata": {},
   "outputs": [],
   "source": [
    "repr = data['repr']"
   ]
  },
  {
   "cell_type": "code",
   "execution_count": 9,
   "metadata": {},
   "outputs": [
    {
     "data": {
      "text/plain": [
       "(621, 192)"
      ]
     },
     "execution_count": 9,
     "metadata": {},
     "output_type": "execute_result"
    }
   ],
   "source": [
    "repr.shape"
   ]
  },
  {
   "cell_type": "markdown",
   "metadata": {},
   "source": [
    "### get nearby frames"
   ]
  },
  {
   "cell_type": "code",
   "execution_count": 10,
   "metadata": {},
   "outputs": [],
   "source": [
    "con_win_size= my_tabcnn.con_win_size\n",
    "halfwin = con_win_size // 2\n",
    "full_x = np.pad(\n",
    "    repr,\n",
    "    [\n",
    "        (halfwin, halfwin\n",
    "         ),  # full x is the entire song padded with halfwin*2 frames\n",
    "        (0, 0)\n",
    "    ],\n",
    "    mode='constant')\n"
   ]
  },
  {
   "cell_type": "code",
   "execution_count": 11,
   "metadata": {},
   "outputs": [],
   "source": [
    "x_new = []\n",
    "for frame_idx in range(0, len(repr)):  # for all frames in the experiment\n",
    "    sample_x = full_x[frame_idx:frame_idx + my_tabcnn.con_win_size]\n",
    "    x_new.append(np.expand_dims(np.swapaxes(sample_x, 0, 1), -1))"
   ]
  },
  {
   "cell_type": "code",
   "execution_count": 12,
   "metadata": {},
   "outputs": [
    {
     "name": "stdout",
     "output_type": "stream",
     "text": [
      "shape = (621,(192, 9, 1)\n"
     ]
    }
   ],
   "source": [
    "print(f\"shape = ({len(x_new)},{x_new[0].shape}\")"
   ]
  },
  {
   "cell_type": "code",
   "execution_count": 13,
   "metadata": {},
   "outputs": [],
   "source": [
    "x_new = np.array(x_new, dtype='float32')\n"
   ]
  },
  {
   "cell_type": "markdown",
   "metadata": {},
   "source": [
    "### predict using model.predict on the repr"
   ]
  },
  {
   "cell_type": "code",
   "execution_count": 14,
   "metadata": {},
   "outputs": [],
   "source": [
    "y_pred = model.predict(x_new)"
   ]
  },
  {
   "cell_type": "code",
   "execution_count": 15,
   "metadata": {},
   "outputs": [
    {
     "data": {
      "text/plain": [
       "621"
      ]
     },
     "execution_count": 15,
     "metadata": {},
     "output_type": "execute_result"
    }
   ],
   "source": [
    "len(y_pred)"
   ]
  },
  {
   "cell_type": "markdown",
   "metadata": {},
   "source": [
    "### make tabs with the prediction"
   ]
  },
  {
   "cell_type": "code",
   "execution_count": 16,
   "metadata": {},
   "outputs": [
    {
     "name": "stderr",
     "output_type": "stream",
     "text": [
      "/mnt/d/data-science/le-wagon/autotab/autotab/TabPrediction.py:42: PerformanceWarning: DataFrame is highly fragmented.  This is usually the result of calling `frame.insert` many times, which has poor performance.  Consider joining all columns at once using pd.concat(axis=1) instead.  To get a de-fragmented frame, use `newframe = frame.copy()`\n",
      "  tablature[frame_idx] = fret\n"
     ]
    }
   ],
   "source": [
    "from autotab.TabPrediction import make_squeezed_tab\n",
    "from autotab.TabPrediction import make_full_tab\n",
    "#test it out\n",
    "expanded_tab = make_full_tab(y_pred, len(y_pred))\n",
    "expanded_tab = expanded_tab-1\n",
    "expanded_tab.to_csv(\"00_Jazz1-200-B_solo.csv\")"
   ]
  },
  {
   "cell_type": "code",
   "execution_count": 17,
   "metadata": {},
   "outputs": [
    {
     "name": "stderr",
     "output_type": "stream",
     "text": [
      "/mnt/d/data-science/le-wagon/autotab/autotab/TabPrediction.py:57: PerformanceWarning: DataFrame is highly fragmented.  This is usually the result of calling `frame.insert` many times, which has poor performance.  Consider joining all columns at once using pd.concat(axis=1) instead.  To get a de-fragmented frame, use `newframe = frame.copy()`\n",
      "  squeezed_Tab[batch_idx] = frame_batch.mode(axis='columns')[0]\n"
     ]
    },
    {
     "data": {
      "text/html": [
       "<div>\n",
       "<style scoped>\n",
       "    .dataframe tbody tr th:only-of-type {\n",
       "        vertical-align: middle;\n",
       "    }\n",
       "\n",
       "    .dataframe tbody tr th {\n",
       "        vertical-align: top;\n",
       "    }\n",
       "\n",
       "    .dataframe thead th {\n",
       "        text-align: right;\n",
       "    }\n",
       "</style>\n",
       "<table border=\"1\" class=\"dataframe\">\n",
       "  <thead>\n",
       "    <tr style=\"text-align: right;\">\n",
       "      <th></th>\n",
       "      <th>0</th>\n",
       "      <th>3</th>\n",
       "      <th>6</th>\n",
       "      <th>9</th>\n",
       "      <th>12</th>\n",
       "      <th>15</th>\n",
       "      <th>18</th>\n",
       "      <th>21</th>\n",
       "      <th>24</th>\n",
       "      <th>27</th>\n",
       "      <th>...</th>\n",
       "      <th>591</th>\n",
       "      <th>594</th>\n",
       "      <th>597</th>\n",
       "      <th>600</th>\n",
       "      <th>603</th>\n",
       "      <th>606</th>\n",
       "      <th>609</th>\n",
       "      <th>612</th>\n",
       "      <th>615</th>\n",
       "      <th>618</th>\n",
       "    </tr>\n",
       "  </thead>\n",
       "  <tbody>\n",
       "    <tr>\n",
       "      <th>e</th>\n",
       "      <td>-2</td>\n",
       "      <td>-2</td>\n",
       "      <td>-2</td>\n",
       "      <td>-2</td>\n",
       "      <td>-2</td>\n",
       "      <td>-2</td>\n",
       "      <td>-2</td>\n",
       "      <td>-2</td>\n",
       "      <td>-2</td>\n",
       "      <td>-2</td>\n",
       "      <td>...</td>\n",
       "      <td>-2</td>\n",
       "      <td>-2</td>\n",
       "      <td>-2</td>\n",
       "      <td>-2</td>\n",
       "      <td>-2</td>\n",
       "      <td>-2</td>\n",
       "      <td>-2</td>\n",
       "      <td>-2</td>\n",
       "      <td>-2</td>\n",
       "      <td>-2</td>\n",
       "    </tr>\n",
       "    <tr>\n",
       "      <th>B</th>\n",
       "      <td>-2</td>\n",
       "      <td>-2</td>\n",
       "      <td>-2</td>\n",
       "      <td>-2</td>\n",
       "      <td>-2</td>\n",
       "      <td>-2</td>\n",
       "      <td>-2</td>\n",
       "      <td>-2</td>\n",
       "      <td>-2</td>\n",
       "      <td>-2</td>\n",
       "      <td>...</td>\n",
       "      <td>-2</td>\n",
       "      <td>-2</td>\n",
       "      <td>-2</td>\n",
       "      <td>-2</td>\n",
       "      <td>-2</td>\n",
       "      <td>-2</td>\n",
       "      <td>-2</td>\n",
       "      <td>-2</td>\n",
       "      <td>-2</td>\n",
       "      <td>-2</td>\n",
       "    </tr>\n",
       "    <tr>\n",
       "      <th>G</th>\n",
       "      <td>-2</td>\n",
       "      <td>-2</td>\n",
       "      <td>-2</td>\n",
       "      <td>-2</td>\n",
       "      <td>-2</td>\n",
       "      <td>-2</td>\n",
       "      <td>-2</td>\n",
       "      <td>-2</td>\n",
       "      <td>-2</td>\n",
       "      <td>-2</td>\n",
       "      <td>...</td>\n",
       "      <td>-2</td>\n",
       "      <td>-2</td>\n",
       "      <td>-2</td>\n",
       "      <td>-2</td>\n",
       "      <td>-2</td>\n",
       "      <td>-2</td>\n",
       "      <td>-2</td>\n",
       "      <td>-2</td>\n",
       "      <td>-2</td>\n",
       "      <td>-2</td>\n",
       "    </tr>\n",
       "    <tr>\n",
       "      <th>D</th>\n",
       "      <td>-2</td>\n",
       "      <td>-2</td>\n",
       "      <td>-2</td>\n",
       "      <td>-2</td>\n",
       "      <td>-2</td>\n",
       "      <td>-2</td>\n",
       "      <td>-2</td>\n",
       "      <td>-2</td>\n",
       "      <td>-2</td>\n",
       "      <td>-2</td>\n",
       "      <td>...</td>\n",
       "      <td>-2</td>\n",
       "      <td>-2</td>\n",
       "      <td>-2</td>\n",
       "      <td>-2</td>\n",
       "      <td>-2</td>\n",
       "      <td>-2</td>\n",
       "      <td>-2</td>\n",
       "      <td>-2</td>\n",
       "      <td>-2</td>\n",
       "      <td>-2</td>\n",
       "    </tr>\n",
       "    <tr>\n",
       "      <th>A</th>\n",
       "      <td>-2</td>\n",
       "      <td>-2</td>\n",
       "      <td>-2</td>\n",
       "      <td>-2</td>\n",
       "      <td>-2</td>\n",
       "      <td>-2</td>\n",
       "      <td>-2</td>\n",
       "      <td>-2</td>\n",
       "      <td>-2</td>\n",
       "      <td>-2</td>\n",
       "      <td>...</td>\n",
       "      <td>-2</td>\n",
       "      <td>-2</td>\n",
       "      <td>-2</td>\n",
       "      <td>-2</td>\n",
       "      <td>-2</td>\n",
       "      <td>-2</td>\n",
       "      <td>-2</td>\n",
       "      <td>-2</td>\n",
       "      <td>-2</td>\n",
       "      <td>-2</td>\n",
       "    </tr>\n",
       "    <tr>\n",
       "      <th>E</th>\n",
       "      <td>-2</td>\n",
       "      <td>-2</td>\n",
       "      <td>-2</td>\n",
       "      <td>-2</td>\n",
       "      <td>-2</td>\n",
       "      <td>-2</td>\n",
       "      <td>-2</td>\n",
       "      <td>-2</td>\n",
       "      <td>-2</td>\n",
       "      <td>-2</td>\n",
       "      <td>...</td>\n",
       "      <td>-2</td>\n",
       "      <td>-2</td>\n",
       "      <td>-2</td>\n",
       "      <td>-2</td>\n",
       "      <td>-2</td>\n",
       "      <td>-2</td>\n",
       "      <td>-2</td>\n",
       "      <td>-2</td>\n",
       "      <td>-2</td>\n",
       "      <td>-2</td>\n",
       "    </tr>\n",
       "  </tbody>\n",
       "</table>\n",
       "<p>6 rows × 207 columns</p>\n",
       "</div>"
      ],
      "text/plain": [
       "   0    3    6    9    12   15   18   21   24   27   ...  591  594  597  600  \\\n",
       "e   -2   -2   -2   -2   -2   -2   -2   -2   -2   -2  ...   -2   -2   -2   -2   \n",
       "B   -2   -2   -2   -2   -2   -2   -2   -2   -2   -2  ...   -2   -2   -2   -2   \n",
       "G   -2   -2   -2   -2   -2   -2   -2   -2   -2   -2  ...   -2   -2   -2   -2   \n",
       "D   -2   -2   -2   -2   -2   -2   -2   -2   -2   -2  ...   -2   -2   -2   -2   \n",
       "A   -2   -2   -2   -2   -2   -2   -2   -2   -2   -2  ...   -2   -2   -2   -2   \n",
       "E   -2   -2   -2   -2   -2   -2   -2   -2   -2   -2  ...   -2   -2   -2   -2   \n",
       "\n",
       "   603  606  609  612  615  618  \n",
       "e   -2   -2   -2   -2   -2   -2  \n",
       "B   -2   -2   -2   -2   -2   -2  \n",
       "G   -2   -2   -2   -2   -2   -2  \n",
       "D   -2   -2   -2   -2   -2   -2  \n",
       "A   -2   -2   -2   -2   -2   -2  \n",
       "E   -2   -2   -2   -2   -2   -2  \n",
       "\n",
       "[6 rows x 207 columns]"
      ]
     },
     "execution_count": 17,
     "metadata": {},
     "output_type": "execute_result"
    }
   ],
   "source": [
    "squeeze_0_6 = make_squeezed_tab(expanded_tab, 3)\n",
    "squeeze_0_6.to_csv(\"00_Jazz1-200-B_solo_0.6.csv\")\n",
    "squeeze_0_6"
   ]
  },
  {
   "cell_type": "code",
   "execution_count": 18,
   "metadata": {},
   "outputs": [
    {
     "name": "stderr",
     "output_type": "stream",
     "text": [
      "/mnt/d/data-science/le-wagon/autotab/autotab/TabDataReprGen.py:174: WavFileWarning: Chunk (non-data) not understood, skipping it.\n",
      "  self.sr_original, data = wavfile.read(file_audio)\n"
     ]
    },
    {
     "data": {
      "text/plain": [
       "(711, 192, 9, 1)"
      ]
     },
     "execution_count": 18,
     "metadata": {},
     "output_type": "execute_result"
    }
   ],
   "source": [
    "import pandas as pd\n",
    "from autotab.TabDataReprGen import TabDataReprGen\n",
    "\n",
    "filenames = '../raw_data/experimentmono.wav'\n",
    "genrep = TabDataReprGen()\n",
    "x_new = genrep.load_rep_from_raw_file(filenames)\n",
    "x_new.shape"
   ]
  },
  {
   "cell_type": "code",
   "execution_count": 19,
   "metadata": {},
   "outputs": [],
   "source": [
    "y_pred = model.predict(x_new)"
   ]
  },
  {
   "cell_type": "code",
   "execution_count": 20,
   "metadata": {},
   "outputs": [
    {
     "data": {
      "text/plain": [
       "array([[[9.92332220e-01, 1.18370447e-03, 4.12837951e-04, ...,\n",
       "         2.92428394e-05, 2.53412363e-05, 3.78872828e-05],\n",
       "        [9.86488998e-01, 5.96007681e-04, 8.18358152e-04, ...,\n",
       "         2.11839451e-05, 1.61393982e-05, 9.02812735e-06],\n",
       "        [9.70599830e-01, 9.30750393e-04, 3.67674540e-04, ...,\n",
       "         1.82603653e-05, 5.21702241e-05, 2.97269435e-05],\n",
       "        [9.57632422e-01, 1.12537644e-03, 1.58200460e-03, ...,\n",
       "         9.79132892e-05, 4.89120539e-05, 5.35439467e-05],\n",
       "        [9.55649257e-01, 1.49175792e-03, 1.67476700e-03, ...,\n",
       "         6.83129983e-05, 3.68000510e-05, 5.21305192e-05],\n",
       "        [9.81439531e-01, 1.55740324e-03, 6.34908269e-04, ...,\n",
       "         3.60782215e-05, 2.61031328e-05, 3.37281053e-05]],\n",
       "\n",
       "       [[9.92291272e-01, 1.18802721e-03, 4.14533715e-04, ...,\n",
       "         2.95057380e-05, 2.54799397e-05, 3.81403879e-05],\n",
       "        [9.86226976e-01, 6.06664864e-04, 8.31673213e-04, ...,\n",
       "         2.16053977e-05, 1.64983794e-05, 9.27234942e-06],\n",
       "        [9.70293343e-01, 9.51543741e-04, 3.72955721e-04, ...,\n",
       "         1.86409488e-05, 5.32257727e-05, 3.02693970e-05],\n",
       "        [9.57415462e-01, 1.13942230e-03, 1.59617933e-03, ...,\n",
       "         9.85401130e-05, 4.95874192e-05, 5.39424618e-05],\n",
       "        [9.55495477e-01, 1.49545108e-03, 1.68224704e-03, ...,\n",
       "         6.86062849e-05, 3.72198556e-05, 5.26294607e-05],\n",
       "        [9.81264114e-01, 1.57455297e-03, 6.42148370e-04, ...,\n",
       "         3.65961678e-05, 2.63789498e-05, 3.41709965e-05]],\n",
       "\n",
       "       [[9.92226362e-01, 1.19751273e-03, 4.17803822e-04, ...,\n",
       "         2.98799587e-05, 2.57555294e-05, 3.85644962e-05],\n",
       "        [9.85923648e-01, 6.19857106e-04, 8.46992189e-04, ...,\n",
       "         2.21257578e-05, 1.69500800e-05, 9.56383428e-06],\n",
       "        [9.69898343e-01, 9.74385941e-04, 3.79074889e-04, ...,\n",
       "         1.91185463e-05, 5.44373470e-05, 3.09149000e-05],\n",
       "        [9.57096457e-01, 1.15602149e-03, 1.61311997e-03, ...,\n",
       "         9.95931041e-05, 5.04192758e-05, 5.45675211e-05],\n",
       "        [9.55259204e-01, 1.50418072e-03, 1.69313804e-03, ...,\n",
       "         6.92867980e-05, 3.77350480e-05, 5.32564773e-05],\n",
       "        [9.81071532e-01, 1.59318652e-03, 6.50127011e-04, ...,\n",
       "         3.71938659e-05, 2.67398864e-05, 3.46836096e-05]],\n",
       "\n",
       "       ...,\n",
       "\n",
       "       [[9.71324861e-01, 4.00542747e-03, 4.13561519e-03, ...,\n",
       "         1.72398242e-04, 1.65031684e-04, 1.38702497e-04],\n",
       "        [9.74146903e-01, 1.50829391e-03, 2.16548936e-03, ...,\n",
       "         1.08613836e-04, 1.12905407e-04, 4.67680766e-05],\n",
       "        [8.39872360e-01, 7.80678634e-03, 3.62079428e-03, ...,\n",
       "         4.88098915e-04, 5.74641395e-04, 4.87859012e-04],\n",
       "        [6.26900554e-01, 9.44332033e-03, 1.13715352e-02, ...,\n",
       "         1.83558615e-03, 7.06687395e-04, 9.99009353e-04],\n",
       "        [8.55383933e-01, 6.63200673e-03, 1.51202315e-02, ...,\n",
       "         6.32159121e-04, 3.07064125e-04, 3.74699623e-04],\n",
       "        [9.20727253e-01, 7.92165101e-03, 5.25466539e-03, ...,\n",
       "         3.05210589e-04, 2.81283661e-04, 4.90997103e-04]],\n",
       "\n",
       "       [[9.71046865e-01, 4.10485966e-03, 4.04114416e-03, ...,\n",
       "         1.73737601e-04, 1.67521066e-04, 1.44370046e-04],\n",
       "        [9.73728418e-01, 1.52392429e-03, 2.20176508e-03, ...,\n",
       "         1.09790897e-04, 1.12309979e-04, 4.75146917e-05],\n",
       "        [8.42854738e-01, 7.67524540e-03, 3.50471959e-03, ...,\n",
       "         4.70189058e-04, 5.62862901e-04, 4.72956483e-04],\n",
       "        [6.40091181e-01, 9.32913832e-03, 1.11668957e-02, ...,\n",
       "         1.77376566e-03, 6.80026773e-04, 9.60335019e-04],\n",
       "        [8.57908785e-01, 6.58664992e-03, 1.43372854e-02, ...,\n",
       "         6.19703962e-04, 3.02784407e-04, 3.68147681e-04],\n",
       "        [9.22515035e-01, 7.80589925e-03, 5.02956798e-03, ...,\n",
       "         2.95413454e-04, 2.75664614e-04, 4.63779172e-04]],\n",
       "\n",
       "       [[9.71135676e-01, 4.21288051e-03, 3.71431559e-03, ...,\n",
       "         1.74885266e-04, 1.69741441e-04, 1.56666763e-04],\n",
       "        [9.72385943e-01, 1.57933705e-03, 2.30479916e-03, ...,\n",
       "         1.10224217e-04, 1.12493530e-04, 4.89249469e-05],\n",
       "        [8.51105809e-01, 7.15728896e-03, 3.27037717e-03, ...,\n",
       "         4.21801291e-04, 5.26198710e-04, 4.27041639e-04],\n",
       "        [6.74428582e-01, 8.81450064e-03, 1.04707573e-02, ...,\n",
       "         1.63741468e-03, 6.27538888e-04, 8.78264778e-04],\n",
       "        [8.67680430e-01, 6.20580930e-03, 1.19576249e-02, ...,\n",
       "         5.74713340e-04, 2.81626737e-04, 3.42695421e-04],\n",
       "        [9.26574111e-01, 7.45453220e-03, 4.50797332e-03, ...,\n",
       "         2.75916216e-04, 2.60642177e-04, 4.07201413e-04]]], dtype=float32)"
      ]
     },
     "execution_count": 20,
     "metadata": {},
     "output_type": "execute_result"
    }
   ],
   "source": [
    "y_pred"
   ]
  },
  {
   "cell_type": "code",
   "execution_count": 21,
   "metadata": {},
   "outputs": [
    {
     "data": {
      "text/plain": [
       "711"
      ]
     },
     "execution_count": 21,
     "metadata": {},
     "output_type": "execute_result"
    }
   ],
   "source": [
    "len(y_pred)"
   ]
  },
  {
   "cell_type": "code",
   "execution_count": 22,
   "metadata": {},
   "outputs": [
    {
     "name": "stderr",
     "output_type": "stream",
     "text": [
      "/mnt/d/data-science/le-wagon/autotab/autotab/TabPrediction.py:42: PerformanceWarning: DataFrame is highly fragmented.  This is usually the result of calling `frame.insert` many times, which has poor performance.  Consider joining all columns at once using pd.concat(axis=1) instead.  To get a de-fragmented frame, use `newframe = frame.copy()`\n",
      "  tablature[frame_idx] = fret\n"
     ]
    }
   ],
   "source": [
    "from autotab.TabPrediction import make_squeezed_tab\n",
    "from autotab.TabPrediction import make_full_tab\n",
    "#test it out\n",
    "expanded_tab = make_full_tab(y_pred, len(y_pred))\n",
    "expanded_tab = expanded_tab\n",
    "expanded_tab.to_csv(\"happy_birthday.csv\")"
   ]
  },
  {
   "cell_type": "code",
   "execution_count": 23,
   "metadata": {},
   "outputs": [
    {
     "name": "stderr",
     "output_type": "stream",
     "text": [
      "/mnt/d/data-science/le-wagon/autotab/autotab/TabPrediction.py:57: PerformanceWarning: DataFrame is highly fragmented.  This is usually the result of calling `frame.insert` many times, which has poor performance.  Consider joining all columns at once using pd.concat(axis=1) instead.  To get a de-fragmented frame, use `newframe = frame.copy()`\n",
      "  squeezed_Tab[batch_idx] = frame_batch.mode(axis='columns')[0]\n"
     ]
    },
    {
     "data": {
      "text/html": [
       "<div>\n",
       "<style scoped>\n",
       "    .dataframe tbody tr th:only-of-type {\n",
       "        vertical-align: middle;\n",
       "    }\n",
       "\n",
       "    .dataframe tbody tr th {\n",
       "        vertical-align: top;\n",
       "    }\n",
       "\n",
       "    .dataframe thead th {\n",
       "        text-align: right;\n",
       "    }\n",
       "</style>\n",
       "<table border=\"1\" class=\"dataframe\">\n",
       "  <thead>\n",
       "    <tr style=\"text-align: right;\">\n",
       "      <th></th>\n",
       "      <th>0</th>\n",
       "      <th>3</th>\n",
       "      <th>6</th>\n",
       "      <th>9</th>\n",
       "      <th>12</th>\n",
       "      <th>15</th>\n",
       "      <th>18</th>\n",
       "      <th>21</th>\n",
       "      <th>24</th>\n",
       "      <th>27</th>\n",
       "      <th>...</th>\n",
       "      <th>681</th>\n",
       "      <th>684</th>\n",
       "      <th>687</th>\n",
       "      <th>690</th>\n",
       "      <th>693</th>\n",
       "      <th>696</th>\n",
       "      <th>699</th>\n",
       "      <th>702</th>\n",
       "      <th>705</th>\n",
       "      <th>708</th>\n",
       "    </tr>\n",
       "  </thead>\n",
       "  <tbody>\n",
       "    <tr>\n",
       "      <th>e</th>\n",
       "      <td>-1</td>\n",
       "      <td>-1</td>\n",
       "      <td>-1</td>\n",
       "      <td>-1</td>\n",
       "      <td>-1</td>\n",
       "      <td>-1</td>\n",
       "      <td>-1</td>\n",
       "      <td>-1</td>\n",
       "      <td>-1</td>\n",
       "      <td>-1</td>\n",
       "      <td>...</td>\n",
       "      <td>-1</td>\n",
       "      <td>-1</td>\n",
       "      <td>-1</td>\n",
       "      <td>-1</td>\n",
       "      <td>-1</td>\n",
       "      <td>-1</td>\n",
       "      <td>-1</td>\n",
       "      <td>-1</td>\n",
       "      <td>-1</td>\n",
       "      <td>-1</td>\n",
       "    </tr>\n",
       "    <tr>\n",
       "      <th>B</th>\n",
       "      <td>-1</td>\n",
       "      <td>-1</td>\n",
       "      <td>-1</td>\n",
       "      <td>-1</td>\n",
       "      <td>-1</td>\n",
       "      <td>-1</td>\n",
       "      <td>-1</td>\n",
       "      <td>-1</td>\n",
       "      <td>-1</td>\n",
       "      <td>-1</td>\n",
       "      <td>...</td>\n",
       "      <td>-1</td>\n",
       "      <td>-1</td>\n",
       "      <td>-1</td>\n",
       "      <td>-1</td>\n",
       "      <td>-1</td>\n",
       "      <td>-1</td>\n",
       "      <td>-1</td>\n",
       "      <td>-1</td>\n",
       "      <td>-1</td>\n",
       "      <td>-1</td>\n",
       "    </tr>\n",
       "    <tr>\n",
       "      <th>G</th>\n",
       "      <td>-1</td>\n",
       "      <td>-1</td>\n",
       "      <td>-1</td>\n",
       "      <td>-1</td>\n",
       "      <td>-1</td>\n",
       "      <td>-1</td>\n",
       "      <td>-1</td>\n",
       "      <td>-1</td>\n",
       "      <td>5</td>\n",
       "      <td>5</td>\n",
       "      <td>...</td>\n",
       "      <td>-1</td>\n",
       "      <td>-1</td>\n",
       "      <td>-1</td>\n",
       "      <td>-1</td>\n",
       "      <td>-1</td>\n",
       "      <td>-1</td>\n",
       "      <td>-1</td>\n",
       "      <td>-1</td>\n",
       "      <td>-1</td>\n",
       "      <td>-1</td>\n",
       "    </tr>\n",
       "    <tr>\n",
       "      <th>D</th>\n",
       "      <td>-1</td>\n",
       "      <td>-1</td>\n",
       "      <td>-1</td>\n",
       "      <td>-1</td>\n",
       "      <td>-1</td>\n",
       "      <td>-1</td>\n",
       "      <td>-1</td>\n",
       "      <td>-1</td>\n",
       "      <td>-1</td>\n",
       "      <td>-1</td>\n",
       "      <td>...</td>\n",
       "      <td>-1</td>\n",
       "      <td>-1</td>\n",
       "      <td>-1</td>\n",
       "      <td>-1</td>\n",
       "      <td>-1</td>\n",
       "      <td>-1</td>\n",
       "      <td>-1</td>\n",
       "      <td>-1</td>\n",
       "      <td>-1</td>\n",
       "      <td>-1</td>\n",
       "    </tr>\n",
       "    <tr>\n",
       "      <th>A</th>\n",
       "      <td>-1</td>\n",
       "      <td>-1</td>\n",
       "      <td>-1</td>\n",
       "      <td>-1</td>\n",
       "      <td>-1</td>\n",
       "      <td>-1</td>\n",
       "      <td>-1</td>\n",
       "      <td>-1</td>\n",
       "      <td>8</td>\n",
       "      <td>8</td>\n",
       "      <td>...</td>\n",
       "      <td>-1</td>\n",
       "      <td>-1</td>\n",
       "      <td>-1</td>\n",
       "      <td>-1</td>\n",
       "      <td>-1</td>\n",
       "      <td>-1</td>\n",
       "      <td>-1</td>\n",
       "      <td>-1</td>\n",
       "      <td>-1</td>\n",
       "      <td>-1</td>\n",
       "    </tr>\n",
       "    <tr>\n",
       "      <th>E</th>\n",
       "      <td>-1</td>\n",
       "      <td>-1</td>\n",
       "      <td>-1</td>\n",
       "      <td>-1</td>\n",
       "      <td>-1</td>\n",
       "      <td>-1</td>\n",
       "      <td>-1</td>\n",
       "      <td>-1</td>\n",
       "      <td>-1</td>\n",
       "      <td>-1</td>\n",
       "      <td>...</td>\n",
       "      <td>-1</td>\n",
       "      <td>-1</td>\n",
       "      <td>-1</td>\n",
       "      <td>-1</td>\n",
       "      <td>-1</td>\n",
       "      <td>-1</td>\n",
       "      <td>-1</td>\n",
       "      <td>-1</td>\n",
       "      <td>-1</td>\n",
       "      <td>-1</td>\n",
       "    </tr>\n",
       "  </tbody>\n",
       "</table>\n",
       "<p>6 rows × 237 columns</p>\n",
       "</div>"
      ],
      "text/plain": [
       "   0    3    6    9    12   15   18   21   24   27   ...  681  684  687  690  \\\n",
       "e   -1   -1   -1   -1   -1   -1   -1   -1   -1   -1  ...   -1   -1   -1   -1   \n",
       "B   -1   -1   -1   -1   -1   -1   -1   -1   -1   -1  ...   -1   -1   -1   -1   \n",
       "G   -1   -1   -1   -1   -1   -1   -1   -1    5    5  ...   -1   -1   -1   -1   \n",
       "D   -1   -1   -1   -1   -1   -1   -1   -1   -1   -1  ...   -1   -1   -1   -1   \n",
       "A   -1   -1   -1   -1   -1   -1   -1   -1    8    8  ...   -1   -1   -1   -1   \n",
       "E   -1   -1   -1   -1   -1   -1   -1   -1   -1   -1  ...   -1   -1   -1   -1   \n",
       "\n",
       "   693  696  699  702  705  708  \n",
       "e   -1   -1   -1   -1   -1   -1  \n",
       "B   -1   -1   -1   -1   -1   -1  \n",
       "G   -1   -1   -1   -1   -1   -1  \n",
       "D   -1   -1   -1   -1   -1   -1  \n",
       "A   -1   -1   -1   -1   -1   -1  \n",
       "E   -1   -1   -1   -1   -1   -1  \n",
       "\n",
       "[6 rows x 237 columns]"
      ]
     },
     "execution_count": 23,
     "metadata": {},
     "output_type": "execute_result"
    }
   ],
   "source": [
    "squeeze_0_6 = make_squeezed_tab(expanded_tab, 3)\n",
    "squeeze_0_6.to_csv(\"happy_birthday_0.6.csv\")\n",
    "squeeze_0_6"
   ]
  },
  {
   "cell_type": "code",
   "execution_count": 24,
   "metadata": {},
   "outputs": [
    {
     "name": "stderr",
     "output_type": "stream",
     "text": [
      "/mnt/d/data-science/le-wagon/autotab/autotab/TabPrediction.py:57: PerformanceWarning: DataFrame is highly fragmented.  This is usually the result of calling `frame.insert` many times, which has poor performance.  Consider joining all columns at once using pd.concat(axis=1) instead.  To get a de-fragmented frame, use `newframe = frame.copy()`\n",
      "  squeezed_Tab[batch_idx] = frame_batch.mode(axis='columns')[0]\n"
     ]
    },
    {
     "data": {
      "text/html": [
       "<div>\n",
       "<style scoped>\n",
       "    .dataframe tbody tr th:only-of-type {\n",
       "        vertical-align: middle;\n",
       "    }\n",
       "\n",
       "    .dataframe tbody tr th {\n",
       "        vertical-align: top;\n",
       "    }\n",
       "\n",
       "    .dataframe thead th {\n",
       "        text-align: right;\n",
       "    }\n",
       "</style>\n",
       "<table border=\"1\" class=\"dataframe\">\n",
       "  <thead>\n",
       "    <tr style=\"text-align: right;\">\n",
       "      <th></th>\n",
       "      <th>0</th>\n",
       "      <th>5</th>\n",
       "      <th>10</th>\n",
       "      <th>15</th>\n",
       "      <th>20</th>\n",
       "      <th>25</th>\n",
       "      <th>30</th>\n",
       "      <th>35</th>\n",
       "      <th>40</th>\n",
       "      <th>45</th>\n",
       "      <th>...</th>\n",
       "      <th>665</th>\n",
       "      <th>670</th>\n",
       "      <th>675</th>\n",
       "      <th>680</th>\n",
       "      <th>685</th>\n",
       "      <th>690</th>\n",
       "      <th>695</th>\n",
       "      <th>700</th>\n",
       "      <th>705</th>\n",
       "      <th>710</th>\n",
       "    </tr>\n",
       "  </thead>\n",
       "  <tbody>\n",
       "    <tr>\n",
       "      <th>e</th>\n",
       "      <td>-1</td>\n",
       "      <td>-1</td>\n",
       "      <td>-1</td>\n",
       "      <td>-1</td>\n",
       "      <td>-1</td>\n",
       "      <td>-1</td>\n",
       "      <td>-1</td>\n",
       "      <td>-1</td>\n",
       "      <td>-1</td>\n",
       "      <td>-1</td>\n",
       "      <td>...</td>\n",
       "      <td>-1</td>\n",
       "      <td>-1</td>\n",
       "      <td>-1</td>\n",
       "      <td>-1</td>\n",
       "      <td>-1</td>\n",
       "      <td>-1</td>\n",
       "      <td>-1</td>\n",
       "      <td>-1</td>\n",
       "      <td>-1</td>\n",
       "      <td>-1</td>\n",
       "    </tr>\n",
       "    <tr>\n",
       "      <th>B</th>\n",
       "      <td>-1</td>\n",
       "      <td>-1</td>\n",
       "      <td>-1</td>\n",
       "      <td>-1</td>\n",
       "      <td>-1</td>\n",
       "      <td>-1</td>\n",
       "      <td>-1</td>\n",
       "      <td>-1</td>\n",
       "      <td>-1</td>\n",
       "      <td>-1</td>\n",
       "      <td>...</td>\n",
       "      <td>-1</td>\n",
       "      <td>-1</td>\n",
       "      <td>-1</td>\n",
       "      <td>-1</td>\n",
       "      <td>-1</td>\n",
       "      <td>-1</td>\n",
       "      <td>-1</td>\n",
       "      <td>-1</td>\n",
       "      <td>-1</td>\n",
       "      <td>-1</td>\n",
       "    </tr>\n",
       "    <tr>\n",
       "      <th>G</th>\n",
       "      <td>-1</td>\n",
       "      <td>-1</td>\n",
       "      <td>-1</td>\n",
       "      <td>-1</td>\n",
       "      <td>-1</td>\n",
       "      <td>5</td>\n",
       "      <td>-1</td>\n",
       "      <td>-1</td>\n",
       "      <td>-1</td>\n",
       "      <td>-1</td>\n",
       "      <td>...</td>\n",
       "      <td>-1</td>\n",
       "      <td>-1</td>\n",
       "      <td>-1</td>\n",
       "      <td>-1</td>\n",
       "      <td>-1</td>\n",
       "      <td>-1</td>\n",
       "      <td>-1</td>\n",
       "      <td>-1</td>\n",
       "      <td>-1</td>\n",
       "      <td>-1</td>\n",
       "    </tr>\n",
       "    <tr>\n",
       "      <th>D</th>\n",
       "      <td>-1</td>\n",
       "      <td>-1</td>\n",
       "      <td>-1</td>\n",
       "      <td>-1</td>\n",
       "      <td>-1</td>\n",
       "      <td>-1</td>\n",
       "      <td>-1</td>\n",
       "      <td>-1</td>\n",
       "      <td>-1</td>\n",
       "      <td>-1</td>\n",
       "      <td>...</td>\n",
       "      <td>-1</td>\n",
       "      <td>-1</td>\n",
       "      <td>-1</td>\n",
       "      <td>-1</td>\n",
       "      <td>-1</td>\n",
       "      <td>-1</td>\n",
       "      <td>-1</td>\n",
       "      <td>-1</td>\n",
       "      <td>-1</td>\n",
       "      <td>-1</td>\n",
       "    </tr>\n",
       "    <tr>\n",
       "      <th>A</th>\n",
       "      <td>-1</td>\n",
       "      <td>-1</td>\n",
       "      <td>-1</td>\n",
       "      <td>-1</td>\n",
       "      <td>-1</td>\n",
       "      <td>8</td>\n",
       "      <td>8</td>\n",
       "      <td>8</td>\n",
       "      <td>-1</td>\n",
       "      <td>8</td>\n",
       "      <td>...</td>\n",
       "      <td>-1</td>\n",
       "      <td>-1</td>\n",
       "      <td>-1</td>\n",
       "      <td>-1</td>\n",
       "      <td>-1</td>\n",
       "      <td>-1</td>\n",
       "      <td>-1</td>\n",
       "      <td>-1</td>\n",
       "      <td>-1</td>\n",
       "      <td>-1</td>\n",
       "    </tr>\n",
       "    <tr>\n",
       "      <th>E</th>\n",
       "      <td>-1</td>\n",
       "      <td>-1</td>\n",
       "      <td>-1</td>\n",
       "      <td>-1</td>\n",
       "      <td>-1</td>\n",
       "      <td>-1</td>\n",
       "      <td>-1</td>\n",
       "      <td>-1</td>\n",
       "      <td>-1</td>\n",
       "      <td>-1</td>\n",
       "      <td>...</td>\n",
       "      <td>-1</td>\n",
       "      <td>-1</td>\n",
       "      <td>-1</td>\n",
       "      <td>-1</td>\n",
       "      <td>-1</td>\n",
       "      <td>-1</td>\n",
       "      <td>-1</td>\n",
       "      <td>-1</td>\n",
       "      <td>-1</td>\n",
       "      <td>-1</td>\n",
       "    </tr>\n",
       "  </tbody>\n",
       "</table>\n",
       "<p>6 rows × 143 columns</p>\n",
       "</div>"
      ],
      "text/plain": [
       "   0    5    10   15   20   25   30   35   40   45   ...  665  670  675  680  \\\n",
       "e   -1   -1   -1   -1   -1   -1   -1   -1   -1   -1  ...   -1   -1   -1   -1   \n",
       "B   -1   -1   -1   -1   -1   -1   -1   -1   -1   -1  ...   -1   -1   -1   -1   \n",
       "G   -1   -1   -1   -1   -1    5   -1   -1   -1   -1  ...   -1   -1   -1   -1   \n",
       "D   -1   -1   -1   -1   -1   -1   -1   -1   -1   -1  ...   -1   -1   -1   -1   \n",
       "A   -1   -1   -1   -1   -1    8    8    8   -1    8  ...   -1   -1   -1   -1   \n",
       "E   -1   -1   -1   -1   -1   -1   -1   -1   -1   -1  ...   -1   -1   -1   -1   \n",
       "\n",
       "   685  690  695  700  705  710  \n",
       "e   -1   -1   -1   -1   -1   -1  \n",
       "B   -1   -1   -1   -1   -1   -1  \n",
       "G   -1   -1   -1   -1   -1   -1  \n",
       "D   -1   -1   -1   -1   -1   -1  \n",
       "A   -1   -1   -1   -1   -1   -1  \n",
       "E   -1   -1   -1   -1   -1   -1  \n",
       "\n",
       "[6 rows x 143 columns]"
      ]
     },
     "execution_count": 24,
     "metadata": {},
     "output_type": "execute_result"
    }
   ],
   "source": [
    "squeeze_1_0 = make_squeezed_tab(expanded_tab, 5)\n",
    "squeeze_1_0.to_csv(\"happy_birthday_1.0.csv\")\n",
    "squeeze_1_0"
   ]
  },
  {
   "cell_type": "code",
   "execution_count": 25,
   "metadata": {},
   "outputs": [
    {
     "name": "stderr",
     "output_type": "stream",
     "text": [
      "/mnt/d/data-science/le-wagon/autotab/autotab/TabPrediction.py:57: PerformanceWarning: DataFrame is highly fragmented.  This is usually the result of calling `frame.insert` many times, which has poor performance.  Consider joining all columns at once using pd.concat(axis=1) instead.  To get a de-fragmented frame, use `newframe = frame.copy()`\n",
      "  squeezed_Tab[batch_idx] = frame_batch.mode(axis='columns')[0]\n"
     ]
    },
    {
     "data": {
      "text/html": [
       "<div>\n",
       "<style scoped>\n",
       "    .dataframe tbody tr th:only-of-type {\n",
       "        vertical-align: middle;\n",
       "    }\n",
       "\n",
       "    .dataframe tbody tr th {\n",
       "        vertical-align: top;\n",
       "    }\n",
       "\n",
       "    .dataframe thead th {\n",
       "        text-align: right;\n",
       "    }\n",
       "</style>\n",
       "<table border=\"1\" class=\"dataframe\">\n",
       "  <thead>\n",
       "    <tr style=\"text-align: right;\">\n",
       "      <th></th>\n",
       "      <th>0</th>\n",
       "      <th>4</th>\n",
       "      <th>8</th>\n",
       "      <th>12</th>\n",
       "      <th>16</th>\n",
       "      <th>20</th>\n",
       "      <th>24</th>\n",
       "      <th>28</th>\n",
       "      <th>32</th>\n",
       "      <th>36</th>\n",
       "      <th>...</th>\n",
       "      <th>672</th>\n",
       "      <th>676</th>\n",
       "      <th>680</th>\n",
       "      <th>684</th>\n",
       "      <th>688</th>\n",
       "      <th>692</th>\n",
       "      <th>696</th>\n",
       "      <th>700</th>\n",
       "      <th>704</th>\n",
       "      <th>708</th>\n",
       "    </tr>\n",
       "  </thead>\n",
       "  <tbody>\n",
       "    <tr>\n",
       "      <th>e</th>\n",
       "      <td>-1</td>\n",
       "      <td>-1</td>\n",
       "      <td>-1</td>\n",
       "      <td>-1</td>\n",
       "      <td>-1</td>\n",
       "      <td>-1</td>\n",
       "      <td>-1</td>\n",
       "      <td>-1</td>\n",
       "      <td>-1</td>\n",
       "      <td>-1</td>\n",
       "      <td>...</td>\n",
       "      <td>-1</td>\n",
       "      <td>-1</td>\n",
       "      <td>-1</td>\n",
       "      <td>-1</td>\n",
       "      <td>-1</td>\n",
       "      <td>-1</td>\n",
       "      <td>-1</td>\n",
       "      <td>-1</td>\n",
       "      <td>-1</td>\n",
       "      <td>-1</td>\n",
       "    </tr>\n",
       "    <tr>\n",
       "      <th>B</th>\n",
       "      <td>-1</td>\n",
       "      <td>-1</td>\n",
       "      <td>-1</td>\n",
       "      <td>-1</td>\n",
       "      <td>-1</td>\n",
       "      <td>-1</td>\n",
       "      <td>-1</td>\n",
       "      <td>-1</td>\n",
       "      <td>-1</td>\n",
       "      <td>-1</td>\n",
       "      <td>...</td>\n",
       "      <td>-1</td>\n",
       "      <td>-1</td>\n",
       "      <td>-1</td>\n",
       "      <td>-1</td>\n",
       "      <td>-1</td>\n",
       "      <td>-1</td>\n",
       "      <td>-1</td>\n",
       "      <td>-1</td>\n",
       "      <td>-1</td>\n",
       "      <td>-1</td>\n",
       "    </tr>\n",
       "    <tr>\n",
       "      <th>G</th>\n",
       "      <td>-1</td>\n",
       "      <td>-1</td>\n",
       "      <td>-1</td>\n",
       "      <td>-1</td>\n",
       "      <td>-1</td>\n",
       "      <td>-1</td>\n",
       "      <td>5</td>\n",
       "      <td>-1</td>\n",
       "      <td>-1</td>\n",
       "      <td>-1</td>\n",
       "      <td>...</td>\n",
       "      <td>-1</td>\n",
       "      <td>-1</td>\n",
       "      <td>-1</td>\n",
       "      <td>-1</td>\n",
       "      <td>-1</td>\n",
       "      <td>-1</td>\n",
       "      <td>-1</td>\n",
       "      <td>-1</td>\n",
       "      <td>-1</td>\n",
       "      <td>-1</td>\n",
       "    </tr>\n",
       "    <tr>\n",
       "      <th>D</th>\n",
       "      <td>-1</td>\n",
       "      <td>-1</td>\n",
       "      <td>-1</td>\n",
       "      <td>-1</td>\n",
       "      <td>-1</td>\n",
       "      <td>-1</td>\n",
       "      <td>-1</td>\n",
       "      <td>-1</td>\n",
       "      <td>-1</td>\n",
       "      <td>-1</td>\n",
       "      <td>...</td>\n",
       "      <td>-1</td>\n",
       "      <td>-1</td>\n",
       "      <td>-1</td>\n",
       "      <td>-1</td>\n",
       "      <td>-1</td>\n",
       "      <td>-1</td>\n",
       "      <td>-1</td>\n",
       "      <td>-1</td>\n",
       "      <td>-1</td>\n",
       "      <td>-1</td>\n",
       "    </tr>\n",
       "    <tr>\n",
       "      <th>A</th>\n",
       "      <td>-1</td>\n",
       "      <td>-1</td>\n",
       "      <td>-1</td>\n",
       "      <td>-1</td>\n",
       "      <td>-1</td>\n",
       "      <td>-1</td>\n",
       "      <td>8</td>\n",
       "      <td>8</td>\n",
       "      <td>8</td>\n",
       "      <td>8</td>\n",
       "      <td>...</td>\n",
       "      <td>-1</td>\n",
       "      <td>-1</td>\n",
       "      <td>-1</td>\n",
       "      <td>-1</td>\n",
       "      <td>-1</td>\n",
       "      <td>-1</td>\n",
       "      <td>-1</td>\n",
       "      <td>-1</td>\n",
       "      <td>-1</td>\n",
       "      <td>-1</td>\n",
       "    </tr>\n",
       "    <tr>\n",
       "      <th>E</th>\n",
       "      <td>-1</td>\n",
       "      <td>-1</td>\n",
       "      <td>-1</td>\n",
       "      <td>-1</td>\n",
       "      <td>-1</td>\n",
       "      <td>-1</td>\n",
       "      <td>-1</td>\n",
       "      <td>-1</td>\n",
       "      <td>-1</td>\n",
       "      <td>-1</td>\n",
       "      <td>...</td>\n",
       "      <td>-1</td>\n",
       "      <td>-1</td>\n",
       "      <td>-1</td>\n",
       "      <td>-1</td>\n",
       "      <td>-1</td>\n",
       "      <td>-1</td>\n",
       "      <td>-1</td>\n",
       "      <td>-1</td>\n",
       "      <td>-1</td>\n",
       "      <td>-1</td>\n",
       "    </tr>\n",
       "  </tbody>\n",
       "</table>\n",
       "<p>6 rows × 178 columns</p>\n",
       "</div>"
      ],
      "text/plain": [
       "   0    4    8    12   16   20   24   28   32   36   ...  672  676  680  684  \\\n",
       "e   -1   -1   -1   -1   -1   -1   -1   -1   -1   -1  ...   -1   -1   -1   -1   \n",
       "B   -1   -1   -1   -1   -1   -1   -1   -1   -1   -1  ...   -1   -1   -1   -1   \n",
       "G   -1   -1   -1   -1   -1   -1    5   -1   -1   -1  ...   -1   -1   -1   -1   \n",
       "D   -1   -1   -1   -1   -1   -1   -1   -1   -1   -1  ...   -1   -1   -1   -1   \n",
       "A   -1   -1   -1   -1   -1   -1    8    8    8    8  ...   -1   -1   -1   -1   \n",
       "E   -1   -1   -1   -1   -1   -1   -1   -1   -1   -1  ...   -1   -1   -1   -1   \n",
       "\n",
       "   688  692  696  700  704  708  \n",
       "e   -1   -1   -1   -1   -1   -1  \n",
       "B   -1   -1   -1   -1   -1   -1  \n",
       "G   -1   -1   -1   -1   -1   -1  \n",
       "D   -1   -1   -1   -1   -1   -1  \n",
       "A   -1   -1   -1   -1   -1   -1  \n",
       "E   -1   -1   -1   -1   -1   -1  \n",
       "\n",
       "[6 rows x 178 columns]"
      ]
     },
     "execution_count": 25,
     "metadata": {},
     "output_type": "execute_result"
    }
   ],
   "source": [
    "squeeze_0_8 = make_squeezed_tab(expanded_tab, 4)\n",
    "squeeze_0_8.to_csv(\"happy_birthday_0.8.csv\")\n",
    "squeeze_0_8"
   ]
  },
  {
   "cell_type": "code",
   "execution_count": null,
   "metadata": {},
   "outputs": [],
   "source": []
  }
 ],
 "metadata": {
  "interpreter": {
   "hash": "e3054ee631c859c74867d0aa2238157b1638b0e80f9bec4c72e9071da013cdc8"
  },
  "kernelspec": {
   "display_name": "Python 3.8.12 64-bit ('autotab': pyenv)",
   "language": "python",
   "name": "python3"
  },
  "language_info": {
   "codemirror_mode": {
    "name": "ipython",
    "version": 3
   },
   "file_extension": ".py",
   "mimetype": "text/x-python",
   "name": "python",
   "nbconvert_exporter": "python",
   "pygments_lexer": "ipython3",
   "version": "3.8.12"
  },
  "orig_nbformat": 4
 },
 "nbformat": 4,
 "nbformat_minor": 2
}
